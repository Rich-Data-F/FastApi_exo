{
 "cells": [
  {
   "cell_type": "code",
   "execution_count": 4,
   "metadata": {},
   "outputs": [],
   "source": [
    "import aiofiles\n",
    "import asyncio\n",
    "import os\n",
    "import requests\n",
    "import pandas as pd\n",
    "from fastapi import FastAPI, HTTPException, Header, Query, Depends\n",
    "from pydantic import BaseModel, Field\n",
    "import csv\n",
    "import random\n",
    "from typing import Optional, List\n",
    "import Backup.csvreview as csvreview\n",
    "import html\n",
    "from enum import Enum\n"
   ]
  },
  {
   "cell_type": "code",
   "execution_count": 5,
   "metadata": {},
   "outputs": [],
   "source": [
    "app = FastAPI(\n",
    "    title=\"API pour la base de questions\",\n",
    "    description=\"API pour consultation de la base de questions et insertion de nouvelles questions\",\n",
    "    version=\"1.0\",\n",
    "    debug=True)\n",
    "\n"
   ]
  },
  {
   "cell_type": "code",
   "execution_count": 8,
   "metadata": {},
   "outputs": [],
   "source": [
    "local_csv_path = \"/root/Coding/FastAPI/Eval/Data/questions.csv\"\n",
    "#Import du csv d'origine\n",
    "async def is_csv_empty(file_path):\n",
    "    return os.path.exists(file_path) and os.path.getsize(file_path) == 0\n",
    "def download_csv_from_url(url, destination_path):\n",
    "    response = requests.get(url)\n",
    "    if response.status_code == 200:\n",
    "        with open(destination_path, 'wb') as file:\n",
    "            file.write(response.content)\n",
    "        print(f\"CSV file downloaded and saved to {destination_path}\")\n",
    "    else:\n",
    "        print(f\"Failed to download CSV file from {url}\")"
   ]
  },
  {
   "cell_type": "code",
   "execution_count": 9,
   "metadata": {},
   "outputs": [
    {
     "name": "stderr",
     "output_type": "stream",
     "text": [
      "/tmp/ipykernel_133804/3068373166.py:2: RuntimeWarning: coroutine 'is_csv_empty' was never awaited\n",
      "  if is_csv_empty(local_csv_path):\n",
      "RuntimeWarning: Enable tracemalloc to get the object allocation traceback\n"
     ]
    },
    {
     "name": "stdout",
     "output_type": "stream",
     "text": [
      "CSV file downloaded and saved to /root/Coding/FastAPI/Eval/Data/questions.csv\n"
     ]
    }
   ],
   "source": [
    "# Vérification que le tableau n'est pas vide\n",
    "if is_csv_empty(local_csv_path):\n",
    "    replacement_csv_url = \"https://dst-de.s3.eu-west-3.amazonaws.com/fastapi_fr/questions.csv\"\n",
    "    download_csv_from_url(replacement_csv_url, local_csv_path)\n",
    "else:\n",
    "    print(\"Local CSV file is not empty, no replacement needed.\")\n",
    "    df=pd.read_csv('/root/Coding/FastAPI/Eval/Data/questions.csv')\n",
    "    display(df.tail())"
   ]
  },
  {
   "cell_type": "code",
   "execution_count": 10,
   "metadata": {},
   "outputs": [
    {
     "data": {
      "text/html": [
       "<div>\n",
       "<style scoped>\n",
       "    .dataframe tbody tr th:only-of-type {\n",
       "        vertical-align: middle;\n",
       "    }\n",
       "\n",
       "    .dataframe tbody tr th {\n",
       "        vertical-align: top;\n",
       "    }\n",
       "\n",
       "    .dataframe thead th {\n",
       "        text-align: right;\n",
       "    }\n",
       "</style>\n",
       "<table border=\"1\" class=\"dataframe\">\n",
       "  <thead>\n",
       "    <tr style=\"text-align: right;\">\n",
       "      <th></th>\n",
       "      <th>question</th>\n",
       "      <th>subject</th>\n",
       "      <th>use</th>\n",
       "      <th>correct</th>\n",
       "      <th>responseA</th>\n",
       "      <th>responseB</th>\n",
       "      <th>responseC</th>\n",
       "      <th>responseD</th>\n",
       "      <th>remark</th>\n",
       "    </tr>\n",
       "  </thead>\n",
       "  <tbody>\n",
       "    <tr>\n",
       "      <th>71</th>\n",
       "      <td>Quelle librairie de Spark n’existe pas ?</td>\n",
       "      <td>Streaming de données</td>\n",
       "      <td>Test de validation</td>\n",
       "      <td>NaN</td>\n",
       "      <td>SparkSQL</td>\n",
       "      <td>SparkML</td>\n",
       "      <td>Spark Streaming</td>\n",
       "      <td>Spark IO</td>\n",
       "      <td>NaN</td>\n",
       "    </tr>\n",
       "    <tr>\n",
       "      <th>72</th>\n",
       "      <td>Que signigie RDD ?</td>\n",
       "      <td>Streaming de données</td>\n",
       "      <td>Test de validation</td>\n",
       "      <td>NaN</td>\n",
       "      <td>Raw distributed dataset</td>\n",
       "      <td>Redundant Distributed Dataset</td>\n",
       "      <td>Resilient Distributed DataSet</td>\n",
       "      <td>NaN</td>\n",
       "      <td>NaN</td>\n",
       "    </tr>\n",
       "    <tr>\n",
       "      <th>73</th>\n",
       "      <td>Qu’est-ce que le DAG ?</td>\n",
       "      <td>Streaming de données</td>\n",
       "      <td>Test de validation</td>\n",
       "      <td>NaN</td>\n",
       "      <td>Une représentation des tâches à exécuter</td>\n",
       "      <td>Un dispositif qui permet d’optimiser les claculs</td>\n",
       "      <td>NaN</td>\n",
       "      <td>NaN</td>\n",
       "      <td>NaN</td>\n",
       "    </tr>\n",
       "    <tr>\n",
       "      <th>74</th>\n",
       "      <td>Les Dstreams sont définis par</td>\n",
       "      <td>Streaming de données</td>\n",
       "      <td>Test de validation</td>\n",
       "      <td>NaN</td>\n",
       "      <td>Une limite de temps</td>\n",
       "      <td>Une limite d’espace</td>\n",
       "      <td>Une limite déterminée aléatoirement</td>\n",
       "      <td>Tous ces points</td>\n",
       "      <td>NaN</td>\n",
       "    </tr>\n",
       "    <tr>\n",
       "      <th>75</th>\n",
       "      <td>Dans HBase, les données sont stockées par</td>\n",
       "      <td>Streaming de données</td>\n",
       "      <td>Test de validation</td>\n",
       "      <td>NaN</td>\n",
       "      <td>Lignes</td>\n",
       "      <td>Familles de colonnes</td>\n",
       "      <td>Clefs</td>\n",
       "      <td>NaN</td>\n",
       "      <td>NaN</td>\n",
       "    </tr>\n",
       "  </tbody>\n",
       "</table>\n",
       "</div>"
      ],
      "text/plain": [
       "                                     question               subject  \\\n",
       "71   Quelle librairie de Spark n’existe pas ?  Streaming de données   \n",
       "72                         Que signigie RDD ?  Streaming de données   \n",
       "73                     Qu’est-ce que le DAG ?  Streaming de données   \n",
       "74              Les Dstreams sont définis par  Streaming de données   \n",
       "75  Dans HBase, les données sont stockées par  Streaming de données   \n",
       "\n",
       "                   use correct                                 responseA  \\\n",
       "71  Test de validation     NaN                                  SparkSQL   \n",
       "72  Test de validation     NaN                   Raw distributed dataset   \n",
       "73  Test de validation     NaN  Une représentation des tâches à exécuter   \n",
       "74  Test de validation     NaN                       Une limite de temps   \n",
       "75  Test de validation     NaN                                    Lignes   \n",
       "\n",
       "                                           responseB  \\\n",
       "71                                           SparkML   \n",
       "72                     Redundant Distributed Dataset   \n",
       "73  Un dispositif qui permet d’optimiser les claculs   \n",
       "74                               Une limite d’espace   \n",
       "75                              Familles de colonnes   \n",
       "\n",
       "                              responseC        responseD remark  \n",
       "71                      Spark Streaming         Spark IO    NaN  \n",
       "72        Resilient Distributed DataSet              NaN    NaN  \n",
       "73                                  NaN              NaN    NaN  \n",
       "74  Une limite déterminée aléatoirement  Tous ces points    NaN  \n",
       "75                                Clefs              NaN    NaN  "
      ]
     },
     "metadata": {},
     "output_type": "display_data"
    }
   ],
   "source": [
    "    df=pd.read_csv('/root/Coding/FastAPI/Eval/Data/questions.csv')\n",
    "    display(df.tail())"
   ]
  },
  {
   "cell_type": "code",
   "execution_count": 11,
   "metadata": {},
   "outputs": [],
   "source": [
    "list_use=csvreview.list_use\n",
    "list_subject=csvreview.list_subject\n",
    "\n",
    "# Dictionnaire d'utilisateurs tels que définis dans l'énoncé, mot de passe admin 'escaped'\n",
    "USERS = {\n",
    "    \"alice\":\"rabbit\",\n",
    "    \"bob\":\"builder\",\n",
    "    \"clementine\":\"mandarine\",\n",
    "    \"admin\":\"{}\".format(html.escape(\"4dm1N\"))\n",
    "    }\n"
   ]
  },
  {
   "cell_type": "code",
   "execution_count": 12,
   "metadata": {},
   "outputs": [],
   "source": [
    "class User(BaseModel):\n",
    "    user: str\n",
    "    password: str\n",
    "    subscription: Optional[str] = None"
   ]
  },
  {
   "cell_type": "code",
   "execution_count": 13,
   "metadata": {},
   "outputs": [
    {
     "name": "stdout",
     "output_type": "stream",
     "text": [
      "BDD\n",
      "Systèmes distribués\n",
      "Streaming de données\n",
      "Docker\n",
      "Classification\n",
      "Sytèmes distribués\n",
      "Data Science\n",
      "Machine Learning\n",
      "Automation\n",
      "Test de positionnement: Test de positionnement\n",
      "Test de validation: Test de validation\n",
      "Total Bootcamp: Total Bootcamp\n"
     ]
    }
   ],
   "source": [
    "# Définition d'un énumérateur à partir d'un tableau de données\n",
    "def define_enum_from_array(array):\n",
    "  enum = Enum(\n",
    "      \"Enum\",\n",
    "      [(value, value) for value in array]\n",
    "      )\n",
    "  return enum\n",
    "\n",
    "enum_use = define_enum_from_array(list_use)\n",
    "enum_subject = define_enum_from_array(list_subject)\n",
    "\n",
    "# Access and print the actual values of the Enum\n",
    "for member in enum_subject:\n",
    "    print(member.value)\n",
    "\n",
    "# Iterate through Enum members and print their values\n",
    "for member in enum_use:\n",
    "    print(f\"{member.name}: {member.value}\")"
   ]
  },
  {
   "cell_type": "code",
   "execution_count": 14,
   "metadata": {},
   "outputs": [],
   "source": [
    "async def authentification(username: str = Header(None), password: str = Header(None)):\n",
    "    ''' vérifie que l'utilisateur est enregistré te correctement identifié'''\n",
    "    if username in USERS and USERS[username] == password:\n",
    "        return username\n",
    "    raise HTTPException(status_code=401, detail=\"Utilisateur ne faisant pas partie des utilisateurs enregistrés, ou identifiants incorrects, merci de contacter l'administrateur\")\n",
    "\n",
    "async def is_valid_answer_format(correct_answer: str) -> bool:\n",
    "    ''' vérifie que la réponse correcte est bien parmi les 4 possibilités.'''\n",
    "    return correct_answer in ['A', 'B', 'C', 'D']\n"
   ]
  },
  {
   "cell_type": "code",
   "execution_count": 15,
   "metadata": {},
   "outputs": [],
   "source": [
    "@app.get('/', name='Bienvenue')\n",
    "async def get_index():\n",
    "    '''Bienvenue'''\n",
    "    return {'greetings': 'Bienvenue'}\n",
    "\n",
    "@app.get('/users', name='Utilisateurs enregistrés')\n",
    "async def get_users():\n",
    "    ''' Retourne la liste des utilisateurs enregistrés'''\n",
    "    return USERS\n",
    "\n",
    "@app.get(\"/check\", name= 'vérification fonctionnalité API')\n",
    "async def check():\n",
    "    ''' Vérification que l'API est bien fonctionnelle'''\n",
    "    return {\"message\": \"l'API est bien fonctionelle\"}\n",
    "\n"
   ]
  },
  {
   "cell_type": "code",
   "execution_count": 16,
   "metadata": {},
   "outputs": [],
   "source": [
    "async def check_subject(subject:str):\n",
    "    ''' vérifie que la sujet entré figure parmi ceux déjà existants'''\n",
    "    if subject not in list_subject:\n",
    "        raise HTTPException(status_code=400, detail=\"Rejected: Le sujet proposé ne fait pas partie de ceux déjà existants\")\n",
    "        print(\"Merci de bien vouloir sélectionner une option parmi celles-ci:\")\n",
    "        for values in list_subject:\n",
    "            print(values)\n",
    "    else:\n",
    "        print(\"Accepted: Subjet validé\")"
   ]
  },
  {
   "cell_type": "code",
   "execution_count": 17,
   "metadata": {},
   "outputs": [],
   "source": [
    "async def check_use(use:str):\n",
    "    ''' vérifie que l'utilisation renseignée  figure parmi celle déjà existante.'''\n",
    "    if use not in list_use:\n",
    "        raise HTTPException(status_code=400, detail=\"Le 'Use' proposé ne fait pas partie de ceux existants\")\n",
    "        print(\"Merci de bien vouloir sélectionner une option parmi celles-ci:\")\n",
    "        for values in list_use:\n",
    "            print(values)        \n",
    "    else:\n",
    "        print(\"Accepted: Use validé\")"
   ]
  },
  {
   "cell_type": "code",
   "execution_count": 18,
   "metadata": {},
   "outputs": [],
   "source": [
    "\n",
    "async def load_questions_from_csv():\n",
    "    ''' récupère le csv questions dans le répertoire Data'''\n",
    "    with open(\"/root/Coding/FastAPI/Eval/Data/questions.csv\", \"r\") as f:\n",
    "        reader = csv.DictReader(f, delimiter=\",\")\n",
    "        questions = list(reader)\n",
    "    return questions\n",
    "    await asyncio.sleep(1)"
   ]
  },
  {
   "cell_type": "code",
   "execution_count": 19,
   "metadata": {},
   "outputs": [],
   "source": [
    "\n",
    "class Requested_Questions(BaseModel):\n",
    "    subject: str = Field(default='BDD')\n",
    "    use: str = Field(default='Total Bootcamp')\n",
    "    num_questions: int = Field(default=5, description=\"Number of questions should be either 5, 10, or 20\", enum=[5, 10, 20])\n",
    "\n",
    "@app.get(\"/get_questions/\", name='Demande de questions')\n",
    "async def get_questions(\n",
    "    subject: str = Query(default='BDD'),\n",
    "    use: str = Query(default='Total Bootcamp'),\n",
    "    num_questions: int = Query(default=5, description=\"Number of questions should be either 5, 10, or 20\", enum=[5, 10, 20])\n",
    "):\n",
    "    '''Obtention d'une série de questions issues de la bases questions.csv'''\n",
    "    await check_use(use)\n",
    "    await check_subject(subject)\n",
    "    await load_questions_from_csv()\n",
    "    filtered_questions = [q for q in questions if q['use'] == use and q['subject'] == subject]\n",
    "    num_requested_questions = min(num_questions, len(filtered_questions))\n",
    "    selected_questions = random.sample(filtered_questions, num_requested_questions)\n",
    "    return selected_questions\n"
   ]
  },
  {
   "cell_type": "code",
   "execution_count": 20,
   "metadata": {},
   "outputs": [],
   "source": [
    "\n",
    "# Ajout de nouvelles questions à la base de données\n",
    "async def save_questions_to_csv(questions):\n",
    "    ''' ajoute une nouvelle question au csv questions existant.'''\n",
    "    fieldnames = questions[0].keys()\n",
    "    async with aiofiles.open(\"/root/Coding/FastAPI/Eval/Data/questions.csv\", \"w\", newline='') as csv_file:\n",
    "        csv_writer = csv.DictWriter(csv_file, fieldnames=fieldnames)\n",
    "        csv_writer.writeheader()\n",
    "        for row in questions:\n",
    "            csv_writer.writerow(row)\n",
    "\n",
    "class New_Question(BaseModel):\n",
    "    question: str\n",
    "    subject: str\n",
    "    use: str\n",
    "    correct: Enum = Field (description=\"Spécifier la bonne réponse soit A, B, C ou D\",enum=['A','B','C','D'])\n",
    "    response_A: str = Field(max_length=150)\n",
    "    response_B: str = Field(max_length=150)\n",
    "    response_C: str = Field(max_length=150)\n",
    "    response_D: Optional[str] = None\n",
    "    remark: Optional[str] = None\n"
   ]
  },
  {
   "cell_type": "code",
   "execution_count": 21,
   "metadata": {},
   "outputs": [],
   "source": [
    "\n",
    "#API endpoint pour l'ajout de questions par un administrateur\n",
    "@app.post(\"/create_question/\", name='création de nouvelles questions par un administrateur')\n",
    "async def create_question(\n",
    "    question: str = Query(description='Texte de la nouvelle question'),\n",
    "    subject: str = Query(default='BDD',description='Sujet a priori parmi ceux existant'), \n",
    "    use: str = Query(default='Total Bootcamp',description='Destination a priori parmi ceux existant'),\n",
    "    correct: str = Query(default='C', description=\"Merci de spécifier la bonne réponse\", enum=['A','B','C','D']),\n",
    "    response_A: str = Query(max_length=150, description='libellé de la réponse A'),\n",
    "    response_B: str = Query(max_length=150, description='libellé de la réponse B'),\n",
    "    response_C: str = Query(max_length=150, description='libellé de la réponse C'),\n",
    "    response_D: Optional[str]=Query(default='Null', max_length=150, description='libellé de la réponse D'),\n",
    "    remark: Optional[str] = None,\n",
    "    username: str = Query (None), \n",
    "    password: str = Query (None)\n",
    "    ):\n",
    "    ''' Création de nouvelle questions.'''\n",
    "    if username != 'admin':\n",
    "        raise HTTPException(status_code=401, detail=\"Vous n'êtes pas autorisés à rentrer une nouvelle question. Seul l'utilisateur admin l'est\")\n",
    "    if username not in USERS or USERS[username] != password:\n",
    "        raise HTTPException(status_code=401, detail=\"Vous n'êtes pas enregistrés ou vos identifiants / mot de passe incorrect(s)\")\n",
    "    if not is_valid_answer_format(correct):\n",
    "        raise HTTPException(status_code=400, detail=\"Format de la question incorrecte\")\n",
    "    await check_use(use)\n",
    "    await check_subject(subject)\n",
    "    questions = await load_questions_from_csv()\n",
    "    await save_questions_to_csv(questions)\n",
    "    questions.append(question)\n",
    "    return {\"message\": \"Merci, question ajoutée avec succès\"}\n"
   ]
  },
  {
   "cell_type": "code",
   "execution_count": 22,
   "metadata": {},
   "outputs": [
    {
     "ename": "RuntimeError",
     "evalue": "asyncio.run() cannot be called from a running event loop",
     "output_type": "error",
     "traceback": [
      "\u001b[0;31m---------------------------------------------------------------------------\u001b[0m",
      "\u001b[0;31mRuntimeError\u001b[0m                              Traceback (most recent call last)",
      "Cell \u001b[0;32mIn[22], line 4\u001b[0m\n\u001b[1;32m      2\u001b[0m \u001b[39mif\u001b[39;00m \u001b[39m__name__\u001b[39m \u001b[39m==\u001b[39m \u001b[39m\"\u001b[39m\u001b[39m__main__\u001b[39m\u001b[39m\"\u001b[39m:\n\u001b[1;32m      3\u001b[0m     \u001b[39mimport\u001b[39;00m \u001b[39muvicorn\u001b[39;00m\n\u001b[0;32m----> 4\u001b[0m     uvicorn\u001b[39m.\u001b[39;49mrun(app, host\u001b[39m=\u001b[39;49m\u001b[39m\"\u001b[39;49m\u001b[39m0.0.0.0\u001b[39;49m\u001b[39m\"\u001b[39;49m, port\u001b[39m=\u001b[39;49m\u001b[39m8000\u001b[39;49m)\n",
      "File \u001b[0;32m/usr/local/lib/python3.10/dist-packages/uvicorn/main.py:587\u001b[0m, in \u001b[0;36mrun\u001b[0;34m(app, host, port, uds, fd, loop, http, ws, ws_max_size, ws_max_queue, ws_ping_interval, ws_ping_timeout, ws_per_message_deflate, lifespan, interface, reload, reload_dirs, reload_includes, reload_excludes, reload_delay, workers, env_file, log_config, log_level, access_log, proxy_headers, server_header, date_header, forwarded_allow_ips, root_path, limit_concurrency, backlog, limit_max_requests, timeout_keep_alive, timeout_graceful_shutdown, ssl_keyfile, ssl_certfile, ssl_keyfile_password, ssl_version, ssl_cert_reqs, ssl_ca_certs, ssl_ciphers, headers, use_colors, app_dir, factory, h11_max_incomplete_event_size)\u001b[0m\n\u001b[1;32m    585\u001b[0m     Multiprocess(config, target\u001b[39m=\u001b[39mserver\u001b[39m.\u001b[39mrun, sockets\u001b[39m=\u001b[39m[sock])\u001b[39m.\u001b[39mrun()\n\u001b[1;32m    586\u001b[0m \u001b[39melse\u001b[39;00m:\n\u001b[0;32m--> 587\u001b[0m     server\u001b[39m.\u001b[39;49mrun()\n\u001b[1;32m    588\u001b[0m \u001b[39mif\u001b[39;00m config\u001b[39m.\u001b[39muds \u001b[39mand\u001b[39;00m os\u001b[39m.\u001b[39mpath\u001b[39m.\u001b[39mexists(config\u001b[39m.\u001b[39muds):\n\u001b[1;32m    589\u001b[0m     os\u001b[39m.\u001b[39mremove(config\u001b[39m.\u001b[39muds)  \u001b[39m# pragma: py-win32\u001b[39;00m\n",
      "File \u001b[0;32m/usr/local/lib/python3.10/dist-packages/uvicorn/server.py:61\u001b[0m, in \u001b[0;36mServer.run\u001b[0;34m(self, sockets)\u001b[0m\n\u001b[1;32m     59\u001b[0m \u001b[39mdef\u001b[39;00m \u001b[39mrun\u001b[39m(\u001b[39mself\u001b[39m, sockets: Optional[List[socket\u001b[39m.\u001b[39msocket]] \u001b[39m=\u001b[39m \u001b[39mNone\u001b[39;00m) \u001b[39m-\u001b[39m\u001b[39m>\u001b[39m \u001b[39mNone\u001b[39;00m:\n\u001b[1;32m     60\u001b[0m     \u001b[39mself\u001b[39m\u001b[39m.\u001b[39mconfig\u001b[39m.\u001b[39msetup_event_loop()\n\u001b[0;32m---> 61\u001b[0m     \u001b[39mreturn\u001b[39;00m asyncio\u001b[39m.\u001b[39;49mrun(\u001b[39mself\u001b[39;49m\u001b[39m.\u001b[39;49mserve(sockets\u001b[39m=\u001b[39;49msockets))\n",
      "File \u001b[0;32m/usr/lib/python3.10/asyncio/runners.py:33\u001b[0m, in \u001b[0;36mrun\u001b[0;34m(main, debug)\u001b[0m\n\u001b[1;32m      9\u001b[0m \u001b[39m\u001b[39m\u001b[39m\"\"\"Execute the coroutine and return the result.\u001b[39;00m\n\u001b[1;32m     10\u001b[0m \n\u001b[1;32m     11\u001b[0m \u001b[39mThis function runs the passed coroutine, taking care of\u001b[39;00m\n\u001b[0;32m   (...)\u001b[0m\n\u001b[1;32m     30\u001b[0m \u001b[39m    asyncio.run(main())\u001b[39;00m\n\u001b[1;32m     31\u001b[0m \u001b[39m\"\"\"\u001b[39;00m\n\u001b[1;32m     32\u001b[0m \u001b[39mif\u001b[39;00m events\u001b[39m.\u001b[39m_get_running_loop() \u001b[39mis\u001b[39;00m \u001b[39mnot\u001b[39;00m \u001b[39mNone\u001b[39;00m:\n\u001b[0;32m---> 33\u001b[0m     \u001b[39mraise\u001b[39;00m \u001b[39mRuntimeError\u001b[39;00m(\n\u001b[1;32m     34\u001b[0m         \u001b[39m\"\u001b[39m\u001b[39masyncio.run() cannot be called from a running event loop\u001b[39m\u001b[39m\"\u001b[39m)\n\u001b[1;32m     36\u001b[0m \u001b[39mif\u001b[39;00m \u001b[39mnot\u001b[39;00m coroutines\u001b[39m.\u001b[39miscoroutine(main):\n\u001b[1;32m     37\u001b[0m     \u001b[39mraise\u001b[39;00m \u001b[39mValueError\u001b[39;00m(\u001b[39m\"\u001b[39m\u001b[39ma coroutine was expected, got \u001b[39m\u001b[39m{!r}\u001b[39;00m\u001b[39m\"\u001b[39m\u001b[39m.\u001b[39mformat(main))\n",
      "\u001b[0;31mRuntimeError\u001b[0m: asyncio.run() cannot be called from a running event loop"
     ]
    }
   ],
   "source": [
    "\n",
    "# initiation FastAPI application\n",
    "if __name__ == \"__main__\":\n",
    "    import uvicorn\n",
    "    uvicorn.run(app, host=\"0.0.0.0\", port=8000)"
   ]
  },
  {
   "cell_type": "code",
   "execution_count": null,
   "metadata": {},
   "outputs": [],
   "source": []
  }
 ],
 "metadata": {
  "kernelspec": {
   "display_name": "Python 3",
   "language": "python",
   "name": "python3"
  },
  "language_info": {
   "codemirror_mode": {
    "name": "ipython",
    "version": 3
   },
   "file_extension": ".py",
   "mimetype": "text/x-python",
   "name": "python",
   "nbconvert_exporter": "python",
   "pygments_lexer": "ipython3",
   "version": "3.10.12"
  },
  "orig_nbformat": 4
 },
 "nbformat": 4,
 "nbformat_minor": 2
}
