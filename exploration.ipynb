{
 "cells": [
  {
   "cell_type": "code",
   "execution_count": 3,
   "metadata": {},
   "outputs": [
    {
     "name": "stdout",
     "output_type": "stream",
     "text": [
      "Collecting pandas\n",
      "  Downloading pandas-2.1.0-cp310-cp310-manylinux_2_17_x86_64.manylinux2014_x86_64.whl (12.7 MB)\n",
      "\u001b[2K     \u001b[90m━━━━━━━━━━━━━━━━━━━━━━━━━━━━━━━━━━━━━━━━\u001b[0m \u001b[32m12.7/12.7 MB\u001b[0m \u001b[31m42.5 MB/s\u001b[0m eta \u001b[36m0:00:00\u001b[0m00:01\u001b[0m00:01\u001b[0m\n",
      "\u001b[?25hCollecting pytz>=2020.1\n",
      "  Downloading pytz-2023.3-py2.py3-none-any.whl (502 kB)\n",
      "\u001b[2K     \u001b[90m━━━━━━━━━━━━━━━━━━━━━━━━━━━━━━━━━━━━━━━\u001b[0m \u001b[32m502.3/502.3 KB\u001b[0m \u001b[31m4.1 MB/s\u001b[0m eta \u001b[36m0:00:00\u001b[0m00:01\u001b[0m\n",
      "\u001b[?25hRequirement already satisfied: python-dateutil>=2.8.2 in /root/.local/lib/python3.10/site-packages (from pandas) (2.8.2)\n",
      "Collecting tzdata>=2022.1\n",
      "  Downloading tzdata-2023.3-py2.py3-none-any.whl (341 kB)\n",
      "\u001b[2K     \u001b[90m━━━━━━━━━━━━━━━━━━━━━━━━━━━━━━━━━━━━━━\u001b[0m \u001b[32m341.8/341.8 KB\u001b[0m \u001b[31m16.9 MB/s\u001b[0m eta \u001b[36m0:00:00\u001b[0m\n",
      "\u001b[?25hCollecting numpy>=1.22.4\n",
      "  Downloading numpy-1.25.2-cp310-cp310-manylinux_2_17_x86_64.manylinux2014_x86_64.whl (18.2 MB)\n",
      "\u001b[2K     \u001b[90m━━━━━━━━━━━━━━━━━━━━━━━━━━━━━━━━━━━━━━━━\u001b[0m \u001b[32m18.2/18.2 MB\u001b[0m \u001b[31m37.7 MB/s\u001b[0m eta \u001b[36m0:00:00\u001b[0m00:01\u001b[0m00:01\u001b[0m\n",
      "\u001b[?25hRequirement already satisfied: six>=1.5 in /usr/lib/python3/dist-packages (from python-dateutil>=2.8.2->pandas) (1.16.0)\n",
      "Installing collected packages: pytz, tzdata, numpy, pandas\n",
      "Successfully installed numpy-1.25.2 pandas-2.1.0 pytz-2023.3 tzdata-2023.3\n",
      "\u001b[33mWARNING: Running pip as the 'root' user can result in broken permissions and conflicting behaviour with the system package manager. It is recommended to use a virtual environment instead: https://pip.pypa.io/warnings/venv\u001b[0m\u001b[33m\n",
      "\u001b[0mNote: you may need to restart the kernel to use updated packages.\n"
     ]
    }
   ],
   "source": [
    "pip install pandas"
   ]
  },
  {
   "cell_type": "code",
   "execution_count": 2,
   "metadata": {},
   "outputs": [],
   "source": [
    "import pandas as pd\n",
    "df=pd.read_csv('https://dst-de.s3.eu-west-3.amazonaws.com/fastapi_fr/questions.csv')\n"
   ]
  },
  {
   "cell_type": "markdown",
   "metadata": {},
   "source": []
  },
  {
   "cell_type": "code",
   "execution_count": 5,
   "metadata": {},
   "outputs": [
    {
     "data": {
      "text/html": [
       "<div>\n",
       "<style scoped>\n",
       "    .dataframe tbody tr th:only-of-type {\n",
       "        vertical-align: middle;\n",
       "    }\n",
       "\n",
       "    .dataframe tbody tr th {\n",
       "        vertical-align: top;\n",
       "    }\n",
       "\n",
       "    .dataframe thead th {\n",
       "        text-align: right;\n",
       "    }\n",
       "</style>\n",
       "<table border=\"1\" class=\"dataframe\">\n",
       "  <thead>\n",
       "    <tr style=\"text-align: right;\">\n",
       "      <th></th>\n",
       "      <th>question</th>\n",
       "      <th>subject</th>\n",
       "      <th>use</th>\n",
       "      <th>correct</th>\n",
       "      <th>responseA</th>\n",
       "      <th>responseB</th>\n",
       "      <th>responseC</th>\n",
       "      <th>responseD</th>\n",
       "      <th>remark</th>\n",
       "    </tr>\n",
       "  </thead>\n",
       "  <tbody>\n",
       "    <tr>\n",
       "      <th>0</th>\n",
       "      <td>Que signifie le sigle No-SQL ?</td>\n",
       "      <td>BDD</td>\n",
       "      <td>Test de positionnement</td>\n",
       "      <td>A</td>\n",
       "      <td>Pas seulement SQL</td>\n",
       "      <td>Pas de SQL</td>\n",
       "      <td>Pas tout SQL</td>\n",
       "      <td>NaN</td>\n",
       "      <td>NaN</td>\n",
       "    </tr>\n",
       "    <tr>\n",
       "      <th>1</th>\n",
       "      <td>Cassandra et HBase sont des bases de données</td>\n",
       "      <td>BDD</td>\n",
       "      <td>Test de positionnement</td>\n",
       "      <td>C</td>\n",
       "      <td>relationnelles</td>\n",
       "      <td>orientées objet</td>\n",
       "      <td>orientées colonne</td>\n",
       "      <td>orientées graphe</td>\n",
       "      <td>NaN</td>\n",
       "    </tr>\n",
       "    <tr>\n",
       "      <th>2</th>\n",
       "      <td>MongoDB et CouchDB sont des bases de données</td>\n",
       "      <td>BDD</td>\n",
       "      <td>Test de positionnement</td>\n",
       "      <td>B</td>\n",
       "      <td>relationnelles</td>\n",
       "      <td>orientées objet</td>\n",
       "      <td>orientées colonne</td>\n",
       "      <td>orientées graphe</td>\n",
       "      <td>NaN</td>\n",
       "    </tr>\n",
       "    <tr>\n",
       "      <th>3</th>\n",
       "      <td>OrientDB et Neo4J sont des bases de données</td>\n",
       "      <td>BDD</td>\n",
       "      <td>Test de positionnement</td>\n",
       "      <td>D</td>\n",
       "      <td>relationnelles</td>\n",
       "      <td>orientées objet</td>\n",
       "      <td>orientées colonne</td>\n",
       "      <td>orientées graphe</td>\n",
       "      <td>NaN</td>\n",
       "    </tr>\n",
       "    <tr>\n",
       "      <th>4</th>\n",
       "      <td>Pour indexer des données textuelles, je peux u...</td>\n",
       "      <td>BDD</td>\n",
       "      <td>Test de positionnement</td>\n",
       "      <td>A</td>\n",
       "      <td>ElasticSearch</td>\n",
       "      <td>Neo4J</td>\n",
       "      <td>MySQL</td>\n",
       "      <td>NaN</td>\n",
       "      <td>NaN</td>\n",
       "    </tr>\n",
       "  </tbody>\n",
       "</table>\n",
       "</div>"
      ],
      "text/plain": [
       "                                            question subject  \\\n",
       "0                     Que signifie le sigle No-SQL ?     BDD   \n",
       "1       Cassandra et HBase sont des bases de données     BDD   \n",
       "2       MongoDB et CouchDB sont des bases de données     BDD   \n",
       "3        OrientDB et Neo4J sont des bases de données     BDD   \n",
       "4  Pour indexer des données textuelles, je peux u...     BDD   \n",
       "\n",
       "                      use correct          responseA        responseB  \\\n",
       "0  Test de positionnement       A  Pas seulement SQL       Pas de SQL   \n",
       "1  Test de positionnement       C     relationnelles  orientées objet   \n",
       "2  Test de positionnement       B     relationnelles  orientées objet   \n",
       "3  Test de positionnement       D     relationnelles  orientées objet   \n",
       "4  Test de positionnement       A      ElasticSearch            Neo4J   \n",
       "\n",
       "           responseC         responseD remark  \n",
       "0       Pas tout SQL               NaN    NaN  \n",
       "1  orientées colonne  orientées graphe    NaN  \n",
       "2  orientées colonne  orientées graphe    NaN  \n",
       "3  orientées colonne  orientées graphe    NaN  \n",
       "4              MySQL               NaN    NaN  "
      ]
     },
     "execution_count": 5,
     "metadata": {},
     "output_type": "execute_result"
    }
   ],
   "source": [
    "df.head()"
   ]
  },
  {
   "cell_type": "code",
   "execution_count": 5,
   "metadata": {},
   "outputs": [
    {
     "name": "stdout",
     "output_type": "stream",
     "text": [
      "['BDD' 'Systèmes distribués' 'Streaming de données' 'Docker'\n",
      " 'Classification' 'Sytèmes distribués' 'Data Science' 'Machine Learning'\n",
      " 'Automation']\n"
     ]
    }
   ],
   "source": [
    "list_subject=df.subject.unique()\n",
    "print(list_subject)"
   ]
  },
  {
   "cell_type": "code",
   "execution_count": 9,
   "metadata": {},
   "outputs": [
    {
     "data": {
      "text/plain": [
       "subject\n",
       "Systèmes distribués     16\n",
       "Streaming de données    13\n",
       "Classification          10\n",
       "Automation              10\n",
       "Data Science             8\n",
       "Machine Learning         7\n",
       "BDD                      6\n",
       "Docker                   5\n",
       "Sytèmes distribués       1\n",
       "Name: count, dtype: int64"
      ]
     },
     "execution_count": 9,
     "metadata": {},
     "output_type": "execute_result"
    }
   ],
   "source": [
    "df.subject.value_counts()"
   ]
  },
  {
   "cell_type": "code",
   "execution_count": 18,
   "metadata": {},
   "outputs": [
    {
     "name": "stdout",
     "output_type": "stream",
     "text": [
      "['Test de positionnement' 'Test de validation' 'Total Bootcamp']\n"
     ]
    }
   ],
   "source": [
    "list_use=df.use.unique()\n",
    "print(list_use)"
   ]
  },
  {
   "cell_type": "code",
   "execution_count": 14,
   "metadata": {},
   "outputs": [
    {
     "name": "stdout",
     "output_type": "stream",
     "text": [
      "use\n",
      "Test de validation        40\n",
      "Test de positionnement    21\n",
      "Total Bootcamp            15\n",
      "Name: count, dtype: int64\n"
     ]
    }
   ],
   "source": [
    "df.use.value_counts()\n",
    "\n"
   ]
  },
  {
   "cell_type": "code",
   "execution_count": 11,
   "metadata": {},
   "outputs": [
    {
     "data": {
      "text/plain": [
       "responseD\n",
       "Tous ces points                                                                                                17\n",
       "orientées graphe                                                                                                3\n",
       "Containers                                                                                                      2\n",
       "De stocker des vidéos sur un système distribué                                                                  1\n",
       "Correlation matrix                                                                                              1\n",
       "Ask Paul what to do next.                                                                                       1\n",
       "When an algorithm is programmed to adapt itself to a given situation.                                           1\n",
       "Allows data partitioning according to the features,distribution density estimation and dimension reduction.     1\n",
       "Java                                                                                                            1\n",
       "Objets                                                                                                          1\n",
       "docker container pull nom_de_l_image                                                                            1\n",
       "Orienté queue+ Synchrone                                                                                        1\n",
       "tous ces points                                                                                                 1\n",
       "Spark IO                                                                                                        1\n",
       "Name: count, dtype: int64"
      ]
     },
     "execution_count": 11,
     "metadata": {},
     "output_type": "execute_result"
    }
   ],
   "source": [
    "df.responseD.value_counts()"
   ]
  },
  {
   "cell_type": "code",
   "execution_count": 12,
   "metadata": {},
   "outputs": [
    {
     "data": {
      "text/plain": [
       "remark\n",
       "Gut feelings.     1\n",
       "Name: count, dtype: int64"
      ]
     },
     "execution_count": 12,
     "metadata": {},
     "output_type": "execute_result"
    }
   ],
   "source": [
    "df.remark.value_counts()"
   ]
  },
  {
   "cell_type": "code",
   "execution_count": 1,
   "metadata": {},
   "outputs": [],
   "source": [
    "import pandas as pd\n",
    "df=pd.read_csv('/root/Coding/FastAPI/Eval/Data/questions.csv')\n"
   ]
  },
  {
   "cell_type": "code",
   "execution_count": null,
   "metadata": {},
   "outputs": [],
   "source": []
  }
 ],
 "metadata": {
  "kernelspec": {
   "display_name": "Python 3",
   "language": "python",
   "name": "python3"
  },
  "language_info": {
   "codemirror_mode": {
    "name": "ipython",
    "version": 3
   },
   "file_extension": ".py",
   "mimetype": "text/x-python",
   "name": "python",
   "nbconvert_exporter": "python",
   "pygments_lexer": "ipython3",
   "version": "3.10.12"
  },
  "orig_nbformat": 4
 },
 "nbformat": 4,
 "nbformat_minor": 2
}
