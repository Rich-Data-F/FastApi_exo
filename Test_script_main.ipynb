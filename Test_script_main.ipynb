{
 "cells": [
  {
   "cell_type": "code",
   "execution_count": 1,
   "metadata": {},
   "outputs": [
    {
     "ename": "ModuleNotFoundError",
     "evalue": "No module named 'msilib'",
     "output_type": "error",
     "traceback": [
      "\u001b[0;31m---------------------------------------------------------------------------\u001b[0m",
      "\u001b[0;31mModuleNotFoundError\u001b[0m                       Traceback (most recent call last)",
      "Cell \u001b[0;32mIn[1], line 1\u001b[0m\n\u001b[0;32m----> 1\u001b[0m \u001b[39mfrom\u001b[39;00m \u001b[39mmsilib\u001b[39;00m\u001b[39m.\u001b[39;00m\u001b[39msequence\u001b[39;00m \u001b[39mimport\u001b[39;00m InstallUISequence\n",
      "\u001b[0;31mModuleNotFoundError\u001b[0m: No module named 'msilib'"
     ]
    }
   ],
   "source": [
    "#from msilib.sequence import InstallUISequence"
   ]
  },
  {
   "cell_type": "code",
   "execution_count": 3,
   "metadata": {},
   "outputs": [
    {
     "name": "stdout",
     "output_type": "stream",
     "text": [
      "ERROR: unknown command \"InstallUISequence\"\n",
      "Note: you may need to restart the kernel to use updated packages.\n"
     ]
    }
   ],
   "source": [
    "#pip InstallUISequence --upgrade pydantic"
   ]
  },
  {
   "cell_type": "code",
   "execution_count": 67,
   "metadata": {},
   "outputs": [],
   "source": [
    "import pandas as pd\n",
    "from fastapi import FastAPI, HTTPException, Header\n",
    "from pydantic import BaseModel, Field\n",
    "from enum import Enum\n",
    "import csv\n",
    "import random\n",
    "from typing import Optional, List\n",
    "import html\n",
    "import csvreview"
   ]
  },
  {
   "cell_type": "code",
   "execution_count": 68,
   "metadata": {},
   "outputs": [
    {
     "name": "stdout",
     "output_type": "stream",
     "text": [
      "['BDD' 'Systèmes distribués' 'Streaming de données' 'Docker'\n",
      " 'Classification' 'Sytèmes distribués' 'Data Science' 'Machine Learning'\n",
      " 'Automation']\n",
      "['Test de positionnement' 'Test de validation' 'Total Bootcamp']\n"
     ]
    }
   ],
   "source": [
    "#import csvreview instead of importt csvreview.py\n",
    "%run csvreview.py"
   ]
  },
  {
   "cell_type": "code",
   "execution_count": 69,
   "metadata": {},
   "outputs": [
    {
     "name": "stdout",
     "output_type": "stream",
     "text": [
      "['BDD' 'Systèmes distribués' 'Streaming de données' 'Docker'\n",
      " 'Classification' 'Sytèmes distribués' 'Data Science' 'Machine Learning'\n",
      " 'Automation']\n",
      "['Test de positionnement' 'Test de validation' 'Total Bootcamp']\n"
     ]
    },
    {
     "data": {
      "text/plain": [
       "remark\n",
       "Gut feelings.     1\n",
       "Name: count, dtype: int64"
      ]
     },
     "execution_count": 69,
     "metadata": {},
     "output_type": "execute_result"
    }
   ],
   "source": [
    "#insertion of the main_api.py file that cant be imported in a ipynb file\n",
    "df=pd.read_csv('https://dst-de.s3.eu-west-3.amazonaws.com/fastapi_fr/questions.csv')\n",
    "df.head()\n",
    "list_subject=df.subject.unique()\n",
    "print(list_subject)\n",
    "df.subject.value_counts()\n",
    "list_use=df.use.unique()\n",
    "print(list_use)\n",
    "df.use.value_counts()\n",
    "df.responseD.value_counts()\n",
    "df.remark.value_counts()"
   ]
  },
  {
   "cell_type": "code",
   "execution_count": 70,
   "metadata": {},
   "outputs": [],
   "source": [
    "app = FastAPI(\n",
    "    title=\"API pour la base de questions\",\n",
    "    description=\"API pour consultation de la base de questions et insertion de nouvelles\",\n",
    "    version=\"1.0\")"
   ]
  },
  {
   "cell_type": "code",
   "execution_count": 35,
   "metadata": {},
   "outputs": [
    {
     "data": {
      "text/plain": [
       "'\\nlist_use=csvreview.list_use\\nlist_subject=csvreview.list_subject\\n'"
      ]
     },
     "execution_count": 35,
     "metadata": {},
     "output_type": "execute_result"
    }
   ],
   "source": [
    "#specific to the main.py file\n",
    "'''\n",
    "list_use=csvreview.list_use\n",
    "list_subject=csvreview.list_subject\n",
    "'''"
   ]
  },
  {
   "cell_type": "code",
   "execution_count": 71,
   "metadata": {},
   "outputs": [],
   "source": [
    "# Dictionnaire d'utilisateurs tels que définis dans l'énoncé, mot de passe admin 'escaped'\n",
    "USERS = {\n",
    "    \"alice\":\"rabbit\",\n",
    "    \"bob\":\"builder\",\n",
    "    \"clementine\":\"mandarine\",\n",
    "    \"admin\":\"{}\".format(html.escape(\"4dm1N\"))\n",
    "    }"
   ]
  },
  {
   "cell_type": "code",
   "execution_count": 72,
   "metadata": {},
   "outputs": [],
   "source": [
    "class User(BaseModel):\n",
    "    user: str\n",
    "    password: str\n",
    "    subscription: Optional[str] = None"
   ]
  },
  {
   "cell_type": "code",
   "execution_count": 73,
   "metadata": {},
   "outputs": [],
   "source": [
    "# Définition d'un énumérateur à partir d'un tableau de données\n",
    "def define_enum_from_array(array):\n",
    "  enum = Enum(\n",
    "      \"Enum\",\n",
    "      [(value, value) for value in array]\n",
    "      )\n",
    "  return enum"
   ]
  },
  {
   "cell_type": "code",
   "execution_count": 74,
   "metadata": {},
   "outputs": [],
   "source": [
    "enum_use = define_enum_from_array(list_use)\n"
   ]
  },
  {
   "cell_type": "code",
   "execution_count": 75,
   "metadata": {},
   "outputs": [],
   "source": [
    "enum_subject = define_enum_from_array(list_subject)"
   ]
  },
  {
   "cell_type": "code",
   "execution_count": 50,
   "metadata": {},
   "outputs": [],
   "source": [
    "class New_Question(BaseModel):\n",
    "    question: str\n",
    "    #subject: Enum = Field(enum_subject=enum)\n",
    "    subject: Enum = enum_subject\n",
    "    use: Enum = enum_use\n",
    "    correct: Enum = Field(enum_values=['A','B','C','D'])\n",
    "    response_A: str = Field(max_length=150)\n",
    "    response_B: str = Field(max_length=150)\n",
    "    response_C: str = Field(max_length=150)\n",
    "    response_D: Optional[str] = None\n",
    "    remark: Optional[str] = None"
   ]
  },
  {
   "cell_type": "code",
   "execution_count": 76,
   "metadata": {},
   "outputs": [],
   "source": [
    "class Requested_Questions(BaseModel):\n",
    "    subject: enum_subject\n",
    "    use: Enum = enum_use\n",
    "    num_questions: int = Field(description=\"Number of questions (5, 10, 20)\", enum=[5, 10, 20])\n",
    "#    num_questions: Enum = Field(enum_values=[5,10,20])"
   ]
  },
  {
   "cell_type": "code",
   "execution_count": 52,
   "metadata": {},
   "outputs": [],
   "source": [
    "def authentification(username: str = Header(None), password: str = Header(None)):\n",
    "    ''' vérifie que l'utilisateur est enregistré te correctement identifié'''\n",
    "    if username in USERS and USERS[username] == password:\n",
    "        return username\n",
    "    raise HTTPException(status_code=401, detail=\"Utilisateur ne faisant pas partie des utilisateurs enregistrés, ou identifiants incorrects, merci de contacter l'administrateur\")\n"
   ]
  },
  {
   "cell_type": "code",
   "execution_count": 53,
   "metadata": {},
   "outputs": [],
   "source": [
    "def is_valid_answer_format(correct_answer: str) -> bool:\n",
    "    ''' vérifie que la réponse correcte est bien parmi les 4 possibilités.'''\n",
    "    return correct_answer in ['A', 'B', 'C', 'D']\n"
   ]
  },
  {
   "cell_type": "code",
   "execution_count": 55,
   "metadata": {},
   "outputs": [],
   "source": [
    "@app.get('/', name='Bienvenue')\n",
    "async def get_index():\n",
    "    '''Bienvenue'''\n",
    "    return {'greetings': 'Bienvenue'}\n"
   ]
  },
  {
   "cell_type": "code",
   "execution_count": 56,
   "metadata": {},
   "outputs": [],
   "source": [
    "@app.get('/users', name='Utilisateurs enregistrés')\n",
    "async def get_users():\n",
    "    ''' Retourne la liste des utilisateurs enregistrés'''\n",
    "    return USERS"
   ]
  },
  {
   "cell_type": "code",
   "execution_count": 57,
   "metadata": {},
   "outputs": [],
   "source": [
    "@app.get(\"/check\", name= 'vérification fonctionnalité API')\n",
    "async def check():\n",
    "    ''' Vérification que l'API est fonctionnelle'''\n",
    "    return {\"message\": \"l'API est bien fonctionelle\"}"
   ]
  },
  {
   "cell_type": "code",
   "execution_count": 82,
   "metadata": {},
   "outputs": [],
   "source": [
    "async def load_questions_from_csv():\n",
    "    with open(\"/root/Coding/FastAPI/Eval/Data/questions.csv\", \"r\") as f:\n",
    "        reader = csv.DictReader(f, delimiter=\",\")\n",
    "        questions = list(reader)\n",
    "    return questions\n",
    "    await asyncio.sleep(1)\n"
   ]
  },
  {
   "cell_type": "code",
   "execution_count": 79,
   "metadata": {},
   "outputs": [],
   "source": [
    "@app.get(\"/get_questions/\",name='Demande de questions')\n",
    "async def get_questions(requested_questions:Requested_Questions):\n",
    "#    questions = get_questions_from_database(requested_question.subject, requested_questions.use, requested_questions.num_questions)\n",
    "#    questions = await load_questions_from_csv()\n",
    "    questions = await load_questions_from_csv()\n",
    "    filtered_questions = [q for q in questions if q['use'] == use and q['subject'] in subject]\n",
    "    num_requested_questions=min(num_questions, len(filtered_questions))\n",
    "    selected_questions = random.sample(filtered_questions, num_requested_questions)\n",
    "    return selected_questions"
   ]
  },
  {
   "cell_type": "code",
   "execution_count": 63,
   "metadata": {},
   "outputs": [],
   "source": [
    "# API endpoint pour l'ajout de questions par un administrateur\n",
    "@app.post(\"/create_question/\", name='création de questions par un administrateur')\n",
    "async def create_question(\n",
    "    question: New_question, \n",
    "    username: str = Header(None), \n",
    "    password: str = Header(None)):\n",
    "    if username != 'admin':\n",
    "        raise HTTPException(status_code=401, detail=\"Vous n'êtes pas autorisés\")\n",
    "    if username not in USERS or USERS[username] != password:\n",
    "        raise HTTPException(status_code=401, detail=\"Vous n'êtes pas enregistrés ou vos identifiants / mot de passe incorrect(s)\")\n",
    "    if not is_valid_answer_format(question.correct):\n",
    "        raise HTTPException(status_code=400, detail=\"Format de la question incorrecte\")\n",
    "    questions = await load_questions_from_csv()\n",
    "    questions.append(question.dict())\n",
    "    await save_questions_to_csv(questions)\n",
    "    return {\"message\": \"Merci, question ajoutée avec succès\"}\n",
    "# Ajout de nouvelles questions à la base de données\n",
    "async def save_questions_to_csv(questions):\n",
    "    fieldnames = questions[0].keys()\n",
    "    async with open(\"/root/Coding/FastAPI/Eval/Data/questions.csv\", \"w\", newline='') as csv_file:\n",
    "        csv_writer = csv.DictWriter(csv_file, fieldnames=fieldnames)\n",
    "        csv_writer.writeheader()\n",
    "        for row in questions:\n",
    "            csv_writer.writerow(row)"
   ]
  },
  {
   "cell_type": "code",
   "execution_count": 83,
   "metadata": {},
   "outputs": [
    {
     "ename": "RuntimeError",
     "evalue": "asyncio.run() cannot be called from a running event loop",
     "output_type": "error",
     "traceback": [
      "\u001b[0;31m---------------------------------------------------------------------------\u001b[0m",
      "\u001b[0;31mRuntimeError\u001b[0m                              Traceback (most recent call last)",
      "Cell \u001b[0;32mIn[83], line 4\u001b[0m\n\u001b[1;32m      2\u001b[0m \u001b[39mif\u001b[39;00m \u001b[39m__name__\u001b[39m \u001b[39m==\u001b[39m \u001b[39m\"\u001b[39m\u001b[39m__main__\u001b[39m\u001b[39m\"\u001b[39m:\n\u001b[1;32m      3\u001b[0m     \u001b[39mimport\u001b[39;00m \u001b[39muvicorn\u001b[39;00m\n\u001b[0;32m----> 4\u001b[0m     uvicorn\u001b[39m.\u001b[39;49mrun(app, host\u001b[39m=\u001b[39;49m\u001b[39m\"\u001b[39;49m\u001b[39m0.0.0.0\u001b[39;49m\u001b[39m\"\u001b[39;49m, port\u001b[39m=\u001b[39;49m\u001b[39m8000\u001b[39;49m)\n",
      "File \u001b[0;32m/usr/local/lib/python3.10/dist-packages/uvicorn/main.py:587\u001b[0m, in \u001b[0;36mrun\u001b[0;34m(app, host, port, uds, fd, loop, http, ws, ws_max_size, ws_max_queue, ws_ping_interval, ws_ping_timeout, ws_per_message_deflate, lifespan, interface, reload, reload_dirs, reload_includes, reload_excludes, reload_delay, workers, env_file, log_config, log_level, access_log, proxy_headers, server_header, date_header, forwarded_allow_ips, root_path, limit_concurrency, backlog, limit_max_requests, timeout_keep_alive, timeout_graceful_shutdown, ssl_keyfile, ssl_certfile, ssl_keyfile_password, ssl_version, ssl_cert_reqs, ssl_ca_certs, ssl_ciphers, headers, use_colors, app_dir, factory, h11_max_incomplete_event_size)\u001b[0m\n\u001b[1;32m    585\u001b[0m     Multiprocess(config, target\u001b[39m=\u001b[39mserver\u001b[39m.\u001b[39mrun, sockets\u001b[39m=\u001b[39m[sock])\u001b[39m.\u001b[39mrun()\n\u001b[1;32m    586\u001b[0m \u001b[39melse\u001b[39;00m:\n\u001b[0;32m--> 587\u001b[0m     server\u001b[39m.\u001b[39;49mrun()\n\u001b[1;32m    588\u001b[0m \u001b[39mif\u001b[39;00m config\u001b[39m.\u001b[39muds \u001b[39mand\u001b[39;00m os\u001b[39m.\u001b[39mpath\u001b[39m.\u001b[39mexists(config\u001b[39m.\u001b[39muds):\n\u001b[1;32m    589\u001b[0m     os\u001b[39m.\u001b[39mremove(config\u001b[39m.\u001b[39muds)  \u001b[39m# pragma: py-win32\u001b[39;00m\n",
      "File \u001b[0;32m/usr/local/lib/python3.10/dist-packages/uvicorn/server.py:61\u001b[0m, in \u001b[0;36mServer.run\u001b[0;34m(self, sockets)\u001b[0m\n\u001b[1;32m     59\u001b[0m \u001b[39mdef\u001b[39;00m \u001b[39mrun\u001b[39m(\u001b[39mself\u001b[39m, sockets: Optional[List[socket\u001b[39m.\u001b[39msocket]] \u001b[39m=\u001b[39m \u001b[39mNone\u001b[39;00m) \u001b[39m-\u001b[39m\u001b[39m>\u001b[39m \u001b[39mNone\u001b[39;00m:\n\u001b[1;32m     60\u001b[0m     \u001b[39mself\u001b[39m\u001b[39m.\u001b[39mconfig\u001b[39m.\u001b[39msetup_event_loop()\n\u001b[0;32m---> 61\u001b[0m     \u001b[39mreturn\u001b[39;00m asyncio\u001b[39m.\u001b[39;49mrun(\u001b[39mself\u001b[39;49m\u001b[39m.\u001b[39;49mserve(sockets\u001b[39m=\u001b[39;49msockets))\n",
      "File \u001b[0;32m/usr/lib/python3.10/asyncio/runners.py:33\u001b[0m, in \u001b[0;36mrun\u001b[0;34m(main, debug)\u001b[0m\n\u001b[1;32m      9\u001b[0m \u001b[39m\u001b[39m\u001b[39m\"\"\"Execute the coroutine and return the result.\u001b[39;00m\n\u001b[1;32m     10\u001b[0m \n\u001b[1;32m     11\u001b[0m \u001b[39mThis function runs the passed coroutine, taking care of\u001b[39;00m\n\u001b[0;32m   (...)\u001b[0m\n\u001b[1;32m     30\u001b[0m \u001b[39m    asyncio.run(main())\u001b[39;00m\n\u001b[1;32m     31\u001b[0m \u001b[39m\"\"\"\u001b[39;00m\n\u001b[1;32m     32\u001b[0m \u001b[39mif\u001b[39;00m events\u001b[39m.\u001b[39m_get_running_loop() \u001b[39mis\u001b[39;00m \u001b[39mnot\u001b[39;00m \u001b[39mNone\u001b[39;00m:\n\u001b[0;32m---> 33\u001b[0m     \u001b[39mraise\u001b[39;00m \u001b[39mRuntimeError\u001b[39;00m(\n\u001b[1;32m     34\u001b[0m         \u001b[39m\"\u001b[39m\u001b[39masyncio.run() cannot be called from a running event loop\u001b[39m\u001b[39m\"\u001b[39m)\n\u001b[1;32m     36\u001b[0m \u001b[39mif\u001b[39;00m \u001b[39mnot\u001b[39;00m coroutines\u001b[39m.\u001b[39miscoroutine(main):\n\u001b[1;32m     37\u001b[0m     \u001b[39mraise\u001b[39;00m \u001b[39mValueError\u001b[39;00m(\u001b[39m\"\u001b[39m\u001b[39ma coroutine was expected, got \u001b[39m\u001b[39m{!r}\u001b[39;00m\u001b[39m\"\u001b[39m\u001b[39m.\u001b[39mformat(main))\n",
      "\u001b[0;31mRuntimeError\u001b[0m: asyncio.run() cannot be called from a running event loop"
     ]
    }
   ],
   "source": [
    "\n",
    "# initiation FastAPI application\n",
    "if __name__ == \"__main__\":\n",
    "    import uvicorn\n",
    "    uvicorn.run(app, host=\"0.0.0.0\", port=8000)"
   ]
  },
  {
   "cell_type": "code",
   "execution_count": null,
   "metadata": {},
   "outputs": [],
   "source": []
  }
 ],
 "metadata": {
  "kernelspec": {
   "display_name": "Python 3",
   "language": "python",
   "name": "python3"
  },
  "language_info": {
   "codemirror_mode": {
    "name": "ipython",
    "version": 3
   },
   "file_extension": ".py",
   "mimetype": "text/x-python",
   "name": "python",
   "nbconvert_exporter": "python",
   "pygments_lexer": "ipython3",
   "version": "3.10.12"
  },
  "orig_nbformat": 4
 },
 "nbformat": 4,
 "nbformat_minor": 2
}
